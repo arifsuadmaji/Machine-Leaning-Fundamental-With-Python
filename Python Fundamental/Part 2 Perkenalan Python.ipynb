{
 "cells": [
  {
   "cell_type": "markdown",
   "id": "87e8d32a",
   "metadata": {},
   "source": [
    "# Part 2 Perkenalan Python"
   ]
  },
  {
   "cell_type": "markdown",
   "id": "0f5e9d3f",
   "metadata": {},
   "source": [
    "<div class=\"alert-success\">\n",
    "Nama :Arif Su'admaji\n",
    "</div>\n",
    "\n",
    "<div class=\"alert-danger\">\n",
    "Github : https://github.com/arifsuadmaji\n",
    "</div>\n",
    "\n",
    "<div class=\"alert-warning\">\n",
    "Pengantar Data Mining\n",
    "</div>\n",
    "\n",
    "<div class=\"alert-info\">\n",
    "2023\n",
    "</div"
   ]
  },
  {
   "cell_type": "markdown",
   "id": "5551778c",
   "metadata": {},
   "source": [
    "# Print"
   ]
  },
  {
   "cell_type": "code",
   "execution_count": 52,
   "id": "0068c6bc",
   "metadata": {},
   "outputs": [
    {
     "name": "stdout",
     "output_type": "stream",
     "text": [
      "Hallo, Nama saya Arif\n"
     ]
    }
   ],
   "source": [
    "print(\"Hallo, Nama saya Arif\")"
   ]
  },
  {
   "cell_type": "code",
   "execution_count": 53,
   "id": "7b3ecc44",
   "metadata": {},
   "outputs": [
    {
     "name": "stdout",
     "output_type": "stream",
     "text": [
      "Hallo, Nama saya Arif\n"
     ]
    }
   ],
   "source": [
    "print('Hallo, Nama saya Arif')"
   ]
  },
  {
   "cell_type": "markdown",
   "id": "80fdf8ce",
   "metadata": {},
   "source": [
    "# Variable"
   ]
  },
  {
   "cell_type": "code",
   "execution_count": 54,
   "id": "ccb13140",
   "metadata": {},
   "outputs": [],
   "source": [
    "a = 1"
   ]
  },
  {
   "cell_type": "code",
   "execution_count": 4,
   "id": "ee08d51e",
   "metadata": {},
   "outputs": [
    {
     "data": {
      "text/plain": [
       "1"
      ]
     },
     "execution_count": 4,
     "metadata": {},
     "output_type": "execute_result"
    }
   ],
   "source": [
    "a"
   ]
  },
  {
   "cell_type": "code",
   "execution_count": 5,
   "id": "8e061320",
   "metadata": {},
   "outputs": [],
   "source": [
    "a, b = 2, 3"
   ]
  },
  {
   "cell_type": "code",
   "execution_count": 6,
   "id": "ac2f39ef",
   "metadata": {},
   "outputs": [
    {
     "data": {
      "text/plain": [
       "2"
      ]
     },
     "execution_count": 6,
     "metadata": {},
     "output_type": "execute_result"
    }
   ],
   "source": [
    "a"
   ]
  },
  {
   "cell_type": "code",
   "execution_count": 7,
   "id": "7ebeb399",
   "metadata": {},
   "outputs": [
    {
     "data": {
      "text/plain": [
       "3"
      ]
     },
     "execution_count": 7,
     "metadata": {},
     "output_type": "execute_result"
    }
   ],
   "source": [
    "b"
   ]
  },
  {
   "cell_type": "code",
   "execution_count": 8,
   "id": "e63d2626",
   "metadata": {},
   "outputs": [
    {
     "data": {
      "text/plain": [
       "(2, 3)"
      ]
     },
     "execution_count": 8,
     "metadata": {},
     "output_type": "execute_result"
    }
   ],
   "source": [
    "a, b"
   ]
  },
  {
   "cell_type": "markdown",
   "id": "a47af919",
   "metadata": {},
   "source": [
    "# List"
   ]
  },
  {
   "cell_type": "code",
   "execution_count": 9,
   "id": "81883ca9",
   "metadata": {},
   "outputs": [],
   "source": [
    "a = [1, 2, 3,'empat', 'lima', 6]"
   ]
  },
  {
   "cell_type": "code",
   "execution_count": 10,
   "id": "1e37a1cf",
   "metadata": {},
   "outputs": [
    {
     "data": {
      "text/plain": [
       "[1, 2, 3, 'empat', 'lima', 6]"
      ]
     },
     "execution_count": 10,
     "metadata": {},
     "output_type": "execute_result"
    }
   ],
   "source": [
    "a"
   ]
  },
  {
   "cell_type": "code",
   "execution_count": 11,
   "id": "1ec497f1",
   "metadata": {},
   "outputs": [
    {
     "data": {
      "text/plain": [
       "1"
      ]
     },
     "execution_count": 11,
     "metadata": {},
     "output_type": "execute_result"
    }
   ],
   "source": [
    "a[0]"
   ]
  },
  {
   "cell_type": "markdown",
   "id": "1b027f05",
   "metadata": {},
   "source": [
    "cara baca =<br>\n",
    "a indeks ke 0 = 1<br>\n",
    "a indeks ke 1 = 2<br>\n",
    "a indeks ke 2 = 3<br>\n",
    "a indeks ke -1 = 6<br>"
   ]
  },
  {
   "cell_type": "code",
   "execution_count": 12,
   "id": "05866a73",
   "metadata": {},
   "outputs": [
    {
     "data": {
      "text/plain": [
       "6"
      ]
     },
     "execution_count": 12,
     "metadata": {},
     "output_type": "execute_result"
    }
   ],
   "source": [
    "a[-1]"
   ]
  },
  {
   "cell_type": "code",
   "execution_count": 13,
   "id": "bae5700a",
   "metadata": {},
   "outputs": [
    {
     "data": {
      "text/plain": [
       "'lima'"
      ]
     },
     "execution_count": 13,
     "metadata": {},
     "output_type": "execute_result"
    }
   ],
   "source": [
    "a[-2]"
   ]
  },
  {
   "cell_type": "markdown",
   "id": "3da7ae3a",
   "metadata": {},
   "source": [
    "#### Menambahkan anggota list"
   ]
  },
  {
   "cell_type": "code",
   "execution_count": 14,
   "id": "c28712ee",
   "metadata": {},
   "outputs": [],
   "source": [
    "a.append(7)"
   ]
  },
  {
   "cell_type": "code",
   "execution_count": 15,
   "id": "c3bcc0b3",
   "metadata": {},
   "outputs": [
    {
     "data": {
      "text/plain": [
       "[1, 2, 3, 'empat', 'lima', 6, 7]"
      ]
     },
     "execution_count": 15,
     "metadata": {},
     "output_type": "execute_result"
    }
   ],
   "source": [
    "a"
   ]
  },
  {
   "cell_type": "markdown",
   "id": "d666a5ac",
   "metadata": {},
   "source": [
    "# Slicing"
   ]
  },
  {
   "cell_type": "markdown",
   "id": "f70cd5d0",
   "metadata": {},
   "source": [
    "`inclusive`:`exclusive`:`step`"
   ]
  },
  {
   "cell_type": "code",
   "execution_count": 16,
   "id": "23b68e34",
   "metadata": {},
   "outputs": [],
   "source": [
    "a = [0, 1, 2, 3, 4, 5, 6]"
   ]
  },
  {
   "cell_type": "code",
   "execution_count": 17,
   "id": "d3816a69",
   "metadata": {},
   "outputs": [
    {
     "data": {
      "text/plain": [
       "[0, 1]"
      ]
     },
     "execution_count": 17,
     "metadata": {},
     "output_type": "execute_result"
    }
   ],
   "source": [
    "a[0:2]"
   ]
  },
  {
   "cell_type": "markdown",
   "id": "87b33f43",
   "metadata": {},
   "source": [
    "a indeks ke 0  sampai indeks ke 2"
   ]
  },
  {
   "cell_type": "code",
   "execution_count": 18,
   "id": "dd6cbb5f",
   "metadata": {},
   "outputs": [
    {
     "data": {
      "text/plain": [
       "[2, 3, 4, 5]"
      ]
     },
     "execution_count": 18,
     "metadata": {},
     "output_type": "execute_result"
    }
   ],
   "source": [
    "a[2:-1]"
   ]
  },
  {
   "cell_type": "code",
   "execution_count": 19,
   "id": "4e05fa6e",
   "metadata": {},
   "outputs": [
    {
     "data": {
      "text/plain": [
       "[3, 4, 5, 6]"
      ]
     },
     "execution_count": 19,
     "metadata": {},
     "output_type": "execute_result"
    }
   ],
   "source": [
    "a[3:]"
   ]
  },
  {
   "cell_type": "code",
   "execution_count": 20,
   "id": "27d5165b",
   "metadata": {},
   "outputs": [
    {
     "data": {
      "text/plain": [
       "[0, 2, 4, 6]"
      ]
     },
     "execution_count": 20,
     "metadata": {},
     "output_type": "execute_result"
    }
   ],
   "source": [
    "a[::2]"
   ]
  },
  {
   "cell_type": "code",
   "execution_count": 21,
   "id": "b86a01b3",
   "metadata": {},
   "outputs": [
    {
     "data": {
      "text/plain": [
       "[1, 3]"
      ]
     },
     "execution_count": 21,
     "metadata": {},
     "output_type": "execute_result"
    }
   ],
   "source": [
    "a[1:5:2]"
   ]
  },
  {
   "cell_type": "code",
   "execution_count": 22,
   "id": "8821233f",
   "metadata": {},
   "outputs": [
    {
     "data": {
      "text/plain": [
       "[6, 5, 4, 3, 2, 1, 0]"
      ]
     },
     "execution_count": 22,
     "metadata": {},
     "output_type": "execute_result"
    }
   ],
   "source": [
    "a[::-1]"
   ]
  },
  {
   "cell_type": "markdown",
   "id": "ff6f7f30",
   "metadata": {},
   "source": [
    "# Join & Split"
   ]
  },
  {
   "cell_type": "code",
   "execution_count": 23,
   "id": "1e5fc9a2",
   "metadata": {},
   "outputs": [],
   "source": [
    "a = ['aku', 'kamu', 'kita']"
   ]
  },
  {
   "cell_type": "code",
   "execution_count": 24,
   "id": "8fc5277e",
   "metadata": {},
   "outputs": [
    {
     "data": {
      "text/plain": [
       "'aku kamu kita'"
      ]
     },
     "execution_count": 24,
     "metadata": {},
     "output_type": "execute_result"
    }
   ],
   "source": [
    "\" \".join(a)"
   ]
  },
  {
   "cell_type": "code",
   "execution_count": 25,
   "id": "d1308453",
   "metadata": {},
   "outputs": [
    {
     "data": {
      "text/plain": [
       "'aku, kamu, kita'"
      ]
     },
     "execution_count": 25,
     "metadata": {},
     "output_type": "execute_result"
    }
   ],
   "source": [
    "\", \".join(a)"
   ]
  },
  {
   "cell_type": "code",
   "execution_count": 26,
   "id": "0edafcc3",
   "metadata": {},
   "outputs": [],
   "source": [
    "a = 'Materi kali ini membahas tentang Perkenalan Python'"
   ]
  },
  {
   "cell_type": "code",
   "execution_count": 27,
   "id": "56ac7896",
   "metadata": {},
   "outputs": [
    {
     "data": {
      "text/plain": [
       "['Materi', 'kali', 'ini', 'membahas', 'tentang', 'Perkenalan', 'Python']"
      ]
     },
     "execution_count": 27,
     "metadata": {},
     "output_type": "execute_result"
    }
   ],
   "source": [
    "a.split()"
   ]
  },
  {
   "cell_type": "code",
   "execution_count": 28,
   "id": "377abca6",
   "metadata": {},
   "outputs": [],
   "source": [
    "a = 'hari ini, saya pergi kepasar'"
   ]
  },
  {
   "cell_type": "code",
   "execution_count": 29,
   "id": "64463f58",
   "metadata": {},
   "outputs": [
    {
     "data": {
      "text/plain": [
       "['hari ini', 'saya pergi kepasar']"
      ]
     },
     "execution_count": 29,
     "metadata": {},
     "output_type": "execute_result"
    }
   ],
   "source": [
    "a.split(\", \")"
   ]
  },
  {
   "cell_type": "markdown",
   "id": "20e75eb5",
   "metadata": {},
   "source": [
    "# Dictionary"
   ]
  },
  {
   "cell_type": "markdown",
   "id": "ce28be5a",
   "metadata": {},
   "source": [
    "`key`:`value`"
   ]
  },
  {
   "cell_type": "code",
   "execution_count": 30,
   "id": "74d80244",
   "metadata": {},
   "outputs": [],
   "source": [
    "a = {\n",
    "    'cat': 'kucing',\n",
    "    'dog': 'anjing',\n",
    "    'fish': 'ikan'\n",
    "}"
   ]
  },
  {
   "cell_type": "code",
   "execution_count": 31,
   "id": "4be6e8e3",
   "metadata": {},
   "outputs": [
    {
     "data": {
      "text/plain": [
       "'kucing'"
      ]
     },
     "execution_count": 31,
     "metadata": {},
     "output_type": "execute_result"
    }
   ],
   "source": [
    "a['cat']"
   ]
  },
  {
   "cell_type": "code",
   "execution_count": 32,
   "id": "3877c719",
   "metadata": {},
   "outputs": [
    {
     "data": {
      "text/plain": [
       "'anjing'"
      ]
     },
     "execution_count": 32,
     "metadata": {},
     "output_type": "execute_result"
    }
   ],
   "source": [
    "a['dog']"
   ]
  },
  {
   "cell_type": "code",
   "execution_count": 33,
   "id": "d42ccc0e",
   "metadata": {},
   "outputs": [
    {
     "data": {
      "text/plain": [
       "'ikan'"
      ]
     },
     "execution_count": 33,
     "metadata": {},
     "output_type": "execute_result"
    }
   ],
   "source": [
    "a['fish']"
   ]
  },
  {
   "cell_type": "code",
   "execution_count": 34,
   "id": "ae4f4f9f",
   "metadata": {},
   "outputs": [],
   "source": [
    "a['bird']= 'burung'"
   ]
  },
  {
   "cell_type": "code",
   "execution_count": 35,
   "id": "0a3b23ce",
   "metadata": {},
   "outputs": [
    {
     "data": {
      "text/plain": [
       "{'cat': 'kucing', 'dog': 'anjing', 'fish': 'ikan', 'bird': 'burung'}"
      ]
     },
     "execution_count": 35,
     "metadata": {},
     "output_type": "execute_result"
    }
   ],
   "source": [
    "a"
   ]
  },
  {
   "cell_type": "code",
   "execution_count": 36,
   "id": "e4c8f93d",
   "metadata": {},
   "outputs": [],
   "source": [
    "a['elephant']= 'gajah'"
   ]
  },
  {
   "cell_type": "code",
   "execution_count": 37,
   "id": "27dab029",
   "metadata": {},
   "outputs": [
    {
     "data": {
      "text/plain": [
       "{'cat': 'kucing',\n",
       " 'dog': 'anjing',\n",
       " 'fish': 'ikan',\n",
       " 'bird': 'burung',\n",
       " 'elephant': 'gajah'}"
      ]
     },
     "execution_count": 37,
     "metadata": {},
     "output_type": "execute_result"
    }
   ],
   "source": [
    "a"
   ]
  },
  {
   "cell_type": "code",
   "execution_count": 38,
   "id": "e06817ce",
   "metadata": {},
   "outputs": [
    {
     "data": {
      "text/plain": [
       "dict_keys(['cat', 'dog', 'fish', 'bird', 'elephant'])"
      ]
     },
     "execution_count": 38,
     "metadata": {},
     "output_type": "execute_result"
    }
   ],
   "source": [
    "a.keys()"
   ]
  },
  {
   "cell_type": "code",
   "execution_count": 39,
   "id": "8214b48b",
   "metadata": {},
   "outputs": [
    {
     "data": {
      "text/plain": [
       "dict_values(['kucing', 'anjing', 'ikan', 'burung', 'gajah'])"
      ]
     },
     "execution_count": 39,
     "metadata": {},
     "output_type": "execute_result"
    }
   ],
   "source": [
    "a.values()"
   ]
  },
  {
   "cell_type": "code",
   "execution_count": 40,
   "id": "ab38152a",
   "metadata": {},
   "outputs": [],
   "source": [
    "nilai = {'Andi': 40, 'Budi':55, 'Caca':75, 'Deddy':100}"
   ]
  },
  {
   "cell_type": "code",
   "execution_count": 41,
   "id": "28cac25d",
   "metadata": {},
   "outputs": [
    {
     "data": {
      "text/plain": [
       "40"
      ]
     },
     "execution_count": 41,
     "metadata": {},
     "output_type": "execute_result"
    }
   ],
   "source": [
    "nilai['Andi']"
   ]
  },
  {
   "cell_type": "code",
   "execution_count": 42,
   "id": "be8d652f",
   "metadata": {},
   "outputs": [
    {
     "data": {
      "text/plain": [
       "{'Andi': 40, 'Budi': 55, 'Caca': 75, 'Deddy': 100}"
      ]
     },
     "execution_count": 42,
     "metadata": {},
     "output_type": "execute_result"
    }
   ],
   "source": [
    "nilai"
   ]
  },
  {
   "cell_type": "code",
   "execution_count": 43,
   "id": "d7724834",
   "metadata": {},
   "outputs": [],
   "source": [
    "nilai['Deddy'] = 90"
   ]
  },
  {
   "cell_type": "code",
   "execution_count": 44,
   "id": "f14522b1",
   "metadata": {},
   "outputs": [
    {
     "data": {
      "text/plain": [
       "{'Andi': 40, 'Budi': 55, 'Caca': 75, 'Deddy': 90}"
      ]
     },
     "execution_count": 44,
     "metadata": {},
     "output_type": "execute_result"
    }
   ],
   "source": [
    "nilai"
   ]
  },
  {
   "cell_type": "markdown",
   "id": "dbbafac9",
   "metadata": {},
   "source": [
    "# Fungsi"
   ]
  },
  {
   "cell_type": "code",
   "execution_count": 45,
   "id": "78fd2f97",
   "metadata": {},
   "outputs": [],
   "source": [
    "def jumlah(a, b):\n",
    "    return a + b"
   ]
  },
  {
   "cell_type": "code",
   "execution_count": 46,
   "id": "ded0f342",
   "metadata": {},
   "outputs": [
    {
     "data": {
      "text/plain": [
       "7"
      ]
     },
     "execution_count": 46,
     "metadata": {},
     "output_type": "execute_result"
    }
   ],
   "source": [
    "jumlah(3, 4)"
   ]
  },
  {
   "cell_type": "code",
   "execution_count": 47,
   "id": "e7cfdf08",
   "metadata": {},
   "outputs": [],
   "source": [
    "def perkalian(a, b):\n",
    "    return a*b"
   ]
  },
  {
   "cell_type": "code",
   "execution_count": 48,
   "id": "0b308b24",
   "metadata": {},
   "outputs": [
    {
     "data": {
      "text/plain": [
       "144"
      ]
     },
     "execution_count": 48,
     "metadata": {},
     "output_type": "execute_result"
    }
   ],
   "source": [
    "perkalian(12, 12)"
   ]
  },
  {
   "cell_type": "markdown",
   "id": "7e89389b",
   "metadata": {},
   "source": [
    "# Conditionals"
   ]
  },
  {
   "cell_type": "code",
   "execution_count": 49,
   "id": "d0f57f36",
   "metadata": {},
   "outputs": [],
   "source": [
    "score = 50"
   ]
  },
  {
   "cell_type": "code",
   "execution_count": 50,
   "id": "62274ee8",
   "metadata": {},
   "outputs": [
    {
     "name": "stdout",
     "output_type": "stream",
     "text": [
      "indeks: C\n"
     ]
    }
   ],
   "source": [
    "if 0 <= score < 60 :\n",
    "    print(\"indeks: C\")\n",
    "elif 60 <= score < 80 :\n",
    "    print(\"indeks: B\")\n",
    "elif 80 <= score < 100 :\n",
    "    print(\"indeks: A\")   \n",
    "elif score == 100 :\n",
    "    print(\"indeks: S\")\n",
    "else:\n",
    "    print(\"Score Terlalu tinggi\")"
   ]
  },
  {
   "cell_type": "code",
   "execution_count": 51,
   "id": "e89bf46f",
   "metadata": {},
   "outputs": [
    {
     "name": "stdout",
     "output_type": "stream",
     "text": [
      "masukan nilai :\n"
     ]
    },
    {
     "ename": "ValueError",
     "evalue": "could not convert string to float: ''",
     "output_type": "error",
     "traceback": [
      "\u001b[1;31m---------------------------------------------------------------------------\u001b[0m",
      "\u001b[1;31mValueError\u001b[0m                                Traceback (most recent call last)",
      "Cell \u001b[1;32mIn[51], line 1\u001b[0m\n\u001b[1;32m----> 1\u001b[0m nilai \u001b[38;5;241m=\u001b[39m \u001b[38;5;28;43mfloat\u001b[39;49m\u001b[43m(\u001b[49m\u001b[38;5;28;43minput\u001b[39;49m\u001b[43m(\u001b[49m\u001b[38;5;124;43m\"\u001b[39;49m\u001b[38;5;124;43mmasukan nilai :\u001b[39;49m\u001b[38;5;124;43m\"\u001b[39;49m\u001b[43m)\u001b[49m\u001b[43m)\u001b[49m\n\u001b[0;32m      3\u001b[0m \u001b[38;5;28;01mif\u001b[39;00m (nilai\u001b[38;5;241m>\u001b[39m\u001b[38;5;241m=\u001b[39m\u001b[38;5;241m76\u001b[39m) :\n\u001b[0;32m      4\u001b[0m     \u001b[38;5;28mprint\u001b[39m(\u001b[38;5;124m\"\u001b[39m\u001b[38;5;124mindeks: A\u001b[39m\u001b[38;5;124m\"\u001b[39m)\n",
      "\u001b[1;31mValueError\u001b[0m: could not convert string to float: ''"
     ]
    }
   ],
   "source": [
    "nilai = float(input(\"masukan nilai :\"))\n",
    "\n",
    "if (nilai>=76) :\n",
    "    print(\"indeks: A\")\n",
    "elif (71 <= nilai < 76) :\n",
    "    print(\"indeks: B+\")\n",
    "elif (65 <= nilai < 71) :\n",
    "    print(\"indeks: B\")   \n",
    "elif (61 <= nilai < 65) :\n",
    "    print(\"indeks: C+\")\n",
    "elif (55 < nilai < 61) :\n",
    "    print(\"indeks: C\")\n",
    "elif (40 <= nilai < 55) :\n",
    "    print(\"indeks: D\")\n",
    "elif (nilai < 40) :\n",
    "    print(\"indeks: E\")"
   ]
  },
  {
   "cell_type": "code",
   "execution_count": null,
   "id": "3fbbb3bd",
   "metadata": {},
   "outputs": [],
   "source": [
    "def konversi_ke_indeks(score):\n",
    "    if 0 <= score < 60 :\n",
    "        return \"indeks: C\"\n",
    "    elif 60 <= score < 80 :\n",
    "        return \"indeks: B\"\n",
    "    elif 80 <= score < 100 :\n",
    "        return \"indeks: A\"  \n",
    "    elif score == 100 :\n",
    "        return \"indeks: S\"\n",
    "    else:\n",
    "        return \"Nilai tidak ada\""
   ]
  },
  {
   "cell_type": "code",
   "execution_count": null,
   "id": "bf76c076",
   "metadata": {},
   "outputs": [],
   "source": [
    "konversi_ke_indeks(120)"
   ]
  },
  {
   "cell_type": "code",
   "execution_count": 53,
   "id": "dd3c8302",
   "metadata": {},
   "outputs": [
    {
     "data": {
      "text/plain": [
       "'Nilai tidak ada'"
      ]
     },
     "execution_count": 53,
     "metadata": {},
     "output_type": "execute_result"
    }
   ],
   "source": [
    "konversi_ke_indeks(-10)"
   ]
  },
  {
   "cell_type": "markdown",
   "id": "3b1d522b",
   "metadata": {},
   "source": [
    "# Iterasi(Menelusuri)"
   ]
  },
  {
   "cell_type": "code",
   "execution_count": 54,
   "id": "2f35fd59",
   "metadata": {},
   "outputs": [],
   "source": [
    "numbers = [1, 2, 3, 4, 5, 6]"
   ]
  },
  {
   "cell_type": "code",
   "execution_count": 55,
   "id": "3e89dc1c",
   "metadata": {},
   "outputs": [
    {
     "name": "stdout",
     "output_type": "stream",
     "text": [
      "1\n",
      "2\n",
      "3\n",
      "4\n",
      "5\n",
      "6\n"
     ]
    }
   ],
   "source": [
    "for n in numbers :\n",
    "    print(n)"
   ]
  },
  {
   "cell_type": "code",
   "execution_count": 56,
   "id": "9d191dcd",
   "metadata": {},
   "outputs": [
    {
     "name": "stdout",
     "output_type": "stream",
     "text": [
      "indeks: A\n",
      "indeks: C\n",
      "indeks: B\n",
      "Nilai tidak ada\n"
     ]
    }
   ],
   "source": [
    "for score in (80, 30, 70, 110):\n",
    "    print(konversi_ke_indeks(score))"
   ]
  },
  {
   "cell_type": "code",
   "execution_count": 57,
   "id": "c872e1d6",
   "metadata": {},
   "outputs": [
    {
     "name": "stdout",
     "output_type": "stream",
     "text": [
      "1\n",
      "4\n",
      "9\n",
      "16\n",
      "25\n",
      "36\n"
     ]
    }
   ],
   "source": [
    "for number in numbers:\n",
    "    print(number**2)"
   ]
  },
  {
   "cell_type": "code",
   "execution_count": 58,
   "id": "9300863a",
   "metadata": {},
   "outputs": [],
   "source": [
    "animals = ['Cat', 'Dog', 'Fish', 'Bird', 'Elephant']"
   ]
  },
  {
   "cell_type": "code",
   "execution_count": 59,
   "id": "19ce2d73",
   "metadata": {},
   "outputs": [
    {
     "name": "stdout",
     "output_type": "stream",
     "text": [
      "Cat\n",
      "Dog\n",
      "Fish\n",
      "Bird\n",
      "Elephant\n"
     ]
    }
   ],
   "source": [
    "for animal in animals:\n",
    "    print(animal)"
   ]
  },
  {
   "cell_type": "code",
   "execution_count": 60,
   "id": "8f7543ef",
   "metadata": {},
   "outputs": [
    {
     "name": "stdout",
     "output_type": "stream",
     "text": [
      "CAT\n",
      "DOG\n",
      "FISH\n",
      "BIRD\n",
      "ELEPHANT\n"
     ]
    }
   ],
   "source": [
    "for animal in animals:\n",
    "    print(animal.upper())"
   ]
  },
  {
   "cell_type": "code",
   "execution_count": 61,
   "id": "1470729a",
   "metadata": {},
   "outputs": [
    {
     "name": "stdout",
     "output_type": "stream",
     "text": [
      "cat\n",
      "dog\n",
      "fish\n",
      "bird\n",
      "elephant\n"
     ]
    }
   ],
   "source": [
    "for animal in animals:\n",
    "    print(animal.lower())"
   ]
  },
  {
   "cell_type": "code",
   "execution_count": 62,
   "id": "4aaf55a2",
   "metadata": {},
   "outputs": [
    {
     "name": "stdout",
     "output_type": "stream",
     "text": [
      "0\n",
      "1\n",
      "2\n",
      "3\n",
      "4\n"
     ]
    }
   ],
   "source": [
    "for i in range(5):\n",
    "    print(i)"
   ]
  },
  {
   "cell_type": "code",
   "execution_count": 63,
   "id": "f927a244",
   "metadata": {},
   "outputs": [
    {
     "name": "stdout",
     "output_type": "stream",
     "text": [
      "2\n",
      "4\n"
     ]
    }
   ],
   "source": [
    "for i in range(2, 5, 2):\n",
    "    print(i)"
   ]
  },
  {
   "cell_type": "code",
   "execution_count": 64,
   "id": "2acb7a40",
   "metadata": {
    "scrolled": true
   },
   "outputs": [
    {
     "name": "stdout",
     "output_type": "stream",
     "text": [
      "0\n",
      "1\n",
      "2\n",
      "3\n",
      "4\n",
      "5\n",
      "6\n",
      "7\n",
      "8\n",
      "9\n",
      "10\n",
      "11\n",
      "12\n",
      "13\n",
      "14\n",
      "15\n",
      "16\n",
      "17\n",
      "18\n",
      "19\n",
      "20\n",
      "21\n",
      "22\n",
      "23\n",
      "24\n",
      "25\n",
      "26\n",
      "27\n",
      "28\n",
      "29\n",
      "30\n",
      "31\n",
      "32\n",
      "33\n",
      "34\n",
      "35\n",
      "36\n",
      "37\n",
      "38\n",
      "39\n",
      "40\n",
      "41\n",
      "42\n",
      "43\n",
      "44\n",
      "45\n",
      "46\n",
      "47\n",
      "48\n",
      "49\n",
      "50\n",
      "51\n",
      "52\n",
      "53\n",
      "54\n",
      "55\n",
      "56\n",
      "57\n",
      "58\n",
      "59\n",
      "60\n",
      "61\n",
      "62\n",
      "63\n",
      "64\n",
      "65\n",
      "66\n",
      "67\n",
      "68\n",
      "69\n",
      "70\n",
      "71\n",
      "72\n",
      "73\n",
      "74\n",
      "75\n",
      "76\n",
      "77\n",
      "78\n",
      "79\n",
      "80\n",
      "81\n",
      "82\n",
      "83\n",
      "84\n",
      "85\n",
      "86\n",
      "87\n",
      "88\n",
      "89\n",
      "90\n",
      "91\n",
      "92\n",
      "93\n",
      "94\n",
      "95\n",
      "96\n",
      "97\n",
      "98\n",
      "99\n"
     ]
    }
   ],
   "source": [
    "for i in range(100):\n",
    "    print(i)"
   ]
  },
  {
   "cell_type": "code",
   "execution_count": 65,
   "id": "c8e6c857",
   "metadata": {},
   "outputs": [
    {
     "data": {
      "text/plain": [
       "{'cat': 'kucing',\n",
       " 'dog': 'anjing',\n",
       " 'fish': 'ikan',\n",
       " 'bird': 'burung',\n",
       " 'elephant': 'gajah'}"
      ]
     },
     "execution_count": 65,
     "metadata": {},
     "output_type": "execute_result"
    }
   ],
   "source": [
    "a"
   ]
  },
  {
   "cell_type": "code",
   "execution_count": 66,
   "id": "eda32fb8",
   "metadata": {},
   "outputs": [
    {
     "data": {
      "text/plain": [
       "dict_keys(['cat', 'dog', 'fish', 'bird', 'elephant'])"
      ]
     },
     "execution_count": 66,
     "metadata": {},
     "output_type": "execute_result"
    }
   ],
   "source": [
    "a.keys()"
   ]
  },
  {
   "cell_type": "code",
   "execution_count": 67,
   "id": "3bff36fc",
   "metadata": {},
   "outputs": [
    {
     "name": "stdout",
     "output_type": "stream",
     "text": [
      "Bahasa indonesia dari cat adalah kucing\n",
      "Bahasa indonesia dari dog adalah anjing\n",
      "Bahasa indonesia dari fish adalah ikan\n",
      "Bahasa indonesia dari bird adalah burung\n",
      "Bahasa indonesia dari elephant adalah gajah\n"
     ]
    }
   ],
   "source": [
    "for key in a.keys():\n",
    "    print(\"Bahasa indonesia dari\", key, \"adalah\", a[key])"
   ]
  },
  {
   "cell_type": "code",
   "execution_count": 68,
   "id": "9e995c34",
   "metadata": {},
   "outputs": [
    {
     "name": "stdout",
     "output_type": "stream",
     "text": [
      "Bahasa indonesia dari cat adalah kucing\n",
      "Bahasa indonesia dari dog adalah anjing\n",
      "Bahasa indonesia dari fish adalah ikan\n",
      "Bahasa indonesia dari bird adalah burung\n",
      "Bahasa indonesia dari elephant adalah gajah\n"
     ]
    }
   ],
   "source": [
    "for key in a.keys():\n",
    "    print(f\"Bahasa indonesia dari {key} adalah {a[key]}\") # formating"
   ]
  },
  {
   "cell_type": "code",
   "execution_count": 69,
   "id": "e412ecdd",
   "metadata": {},
   "outputs": [],
   "source": [
    "a = []\n",
    "for i in range(5):\n",
    "    a.append(i**2)"
   ]
  },
  {
   "cell_type": "code",
   "execution_count": 70,
   "id": "b0404a38",
   "metadata": {},
   "outputs": [
    {
     "data": {
      "text/plain": [
       "[0, 1, 4, 9, 16]"
      ]
     },
     "execution_count": 70,
     "metadata": {},
     "output_type": "execute_result"
    }
   ],
   "source": [
    "a"
   ]
  },
  {
   "cell_type": "markdown",
   "id": "cf0e1e24",
   "metadata": {},
   "source": [
    "# Python Comprehension"
   ]
  },
  {
   "cell_type": "code",
   "execution_count": 71,
   "id": "c0f9f3e3",
   "metadata": {},
   "outputs": [],
   "source": [
    "a = [i**2 for i in range(5)]"
   ]
  },
  {
   "cell_type": "code",
   "execution_count": 72,
   "id": "9b5a02d8",
   "metadata": {},
   "outputs": [
    {
     "data": {
      "text/plain": [
       "[0, 1, 4, 9, 16]"
      ]
     },
     "execution_count": 72,
     "metadata": {},
     "output_type": "execute_result"
    }
   ],
   "source": [
    "a"
   ]
  },
  {
   "cell_type": "code",
   "execution_count": 73,
   "id": "0b0a90d0",
   "metadata": {},
   "outputs": [],
   "source": [
    "a = {i: i**2 for i in range(5)} "
   ]
  },
  {
   "cell_type": "code",
   "execution_count": 74,
   "id": "9e7cb125",
   "metadata": {},
   "outputs": [
    {
     "data": {
      "text/plain": [
       "{0: 0, 1: 1, 2: 4, 3: 9, 4: 16}"
      ]
     },
     "execution_count": 74,
     "metadata": {},
     "output_type": "execute_result"
    }
   ],
   "source": [
    "a"
   ]
  },
  {
   "cell_type": "code",
   "execution_count": 75,
   "id": "2af3a33c",
   "metadata": {},
   "outputs": [],
   "source": [
    "nilai = [konversi_ke_indeks(score) for score in(20, 40, 50, 30, 70, 80, -5, 110)]"
   ]
  },
  {
   "cell_type": "code",
   "execution_count": 76,
   "id": "ecdd22fa",
   "metadata": {},
   "outputs": [
    {
     "data": {
      "text/plain": [
       "['indeks: C',\n",
       " 'indeks: C',\n",
       " 'indeks: C',\n",
       " 'indeks: C',\n",
       " 'indeks: B',\n",
       " 'indeks: A',\n",
       " 'Nilai tidak ada',\n",
       " 'Nilai tidak ada']"
      ]
     },
     "execution_count": 76,
     "metadata": {},
     "output_type": "execute_result"
    }
   ],
   "source": [
    "nilai"
   ]
  },
  {
   "cell_type": "code",
   "execution_count": null,
   "id": "7a26eecc",
   "metadata": {},
   "outputs": [],
   "source": []
  }
 ],
 "metadata": {
  "kernelspec": {
   "display_name": "Python 3 (ipykernel)",
   "language": "python",
   "name": "python3"
  },
  "language_info": {
   "codemirror_mode": {
    "name": "ipython",
    "version": 3
   },
   "file_extension": ".py",
   "mimetype": "text/x-python",
   "name": "python",
   "nbconvert_exporter": "python",
   "pygments_lexer": "ipython3",
   "version": "3.10.8"
  },
  "nbTranslate": {
   "displayLangs": [
    "*"
   ],
   "hotkey": "alt-t",
   "langInMainMenu": true,
   "sourceLang": "en",
   "targetLang": "fr",
   "useGoogleTranslate": true
  }
 },
 "nbformat": 4,
 "nbformat_minor": 5
}
